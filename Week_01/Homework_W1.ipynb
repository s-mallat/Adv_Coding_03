{
 "cells": [
  {
   "cell_type": "code",
   "execution_count": 2,
   "id": "ae7f4b66",
   "metadata": {
    "scrolled": true
   },
   "outputs": [
    {
     "name": "stdout",
     "output_type": "stream",
     "text": [
      "TensorFlow version: 2.8.0\n",
      "Num GPUs Available:  0\n",
      "\u001b[1mDownloading and preparing dataset 11.06 MiB (download: 11.06 MiB, generated: 21.00 MiB, total: 32.06 MiB) to /Users/sallymallat/tensorflow_datasets/mnist/3.0.1...\u001b[0m\n"
     ]
    },
    {
     "data": {
      "application/vnd.jupyter.widget-view+json": {
       "model_id": "944aadd32e0e419d92e61ea34550a50c",
       "version_major": 2,
       "version_minor": 0
      },
      "text/plain": [
       "Dl Completed...:   0%|          | 0/4 [00:00<?, ? file/s]"
      ]
     },
     "metadata": {},
     "output_type": "display_data"
    },
    {
     "name": "stdout",
     "output_type": "stream",
     "text": [
      "\u001b[1mDataset mnist downloaded and prepared to /Users/sallymallat/tensorflow_datasets/mnist/3.0.1. Subsequent calls will reuse this data.\u001b[0m\n",
      "WARNING:tensorflow:AutoGraph could not transform <function normalize_img at 0x7fb11aebf0d0> and will run it as-is.\n",
      "Cause: Unable to locate the source code of <function normalize_img at 0x7fb11aebf0d0>. Note that functions defined in certain environments, like the interactive Python shell, do not expose their source code. If that is the case, you should define them in a .py source file. If you are certain the code is graph-compatible, wrap the call using @tf.autograph.experimental.do_not_convert. Original error: could not get source code\n",
      "To silence this warning, decorate the function with @tf.autograph.experimental.do_not_convert\n"
     ]
    },
    {
     "name": "stderr",
     "output_type": "stream",
     "text": [
      "WARNING:tensorflow:AutoGraph could not transform <function normalize_img at 0x7fb11aebf0d0> and will run it as-is.\n",
      "Cause: Unable to locate the source code of <function normalize_img at 0x7fb11aebf0d0>. Note that functions defined in certain environments, like the interactive Python shell, do not expose their source code. If that is the case, you should define them in a .py source file. If you are certain the code is graph-compatible, wrap the call using @tf.autograph.experimental.do_not_convert. Original error: could not get source code\n",
      "To silence this warning, decorate the function with @tf.autograph.experimental.do_not_convert\n"
     ]
    },
    {
     "name": "stdout",
     "output_type": "stream",
     "text": [
      "WARNING: AutoGraph could not transform <function normalize_img at 0x7fb11aebf0d0> and will run it as-is.\n",
      "Cause: Unable to locate the source code of <function normalize_img at 0x7fb11aebf0d0>. Note that functions defined in certain environments, like the interactive Python shell, do not expose their source code. If that is the case, you should define them in a .py source file. If you are certain the code is graph-compatible, wrap the call using @tf.autograph.experimental.do_not_convert. Original error: could not get source code\n",
      "To silence this warning, decorate the function with @tf.autograph.experimental.do_not_convert\n",
      "Epoch 1/12\n",
      "469/469 [==============================] - 44s 91ms/step - loss: 0.1719 - accuracy: 0.9477 - val_loss: 0.0539 - val_accuracy: 0.9821\n",
      "Epoch 2/12\n",
      "469/469 [==============================] - 47s 101ms/step - loss: 0.0455 - accuracy: 0.9857 - val_loss: 0.0386 - val_accuracy: 0.9872\n",
      "Epoch 3/12\n",
      "469/469 [==============================] - 45s 97ms/step - loss: 0.0277 - accuracy: 0.9913 - val_loss: 0.0395 - val_accuracy: 0.9873\n",
      "Epoch 4/12\n",
      "469/469 [==============================] - 48s 102ms/step - loss: 0.0187 - accuracy: 0.9943 - val_loss: 0.0316 - val_accuracy: 0.9905\n",
      "Epoch 5/12\n",
      "469/469 [==============================] - 45s 96ms/step - loss: 0.0141 - accuracy: 0.9955 - val_loss: 0.0333 - val_accuracy: 0.9890\n",
      "Epoch 6/12\n",
      "469/469 [==============================] - 45s 96ms/step - loss: 0.0103 - accuracy: 0.9967 - val_loss: 0.0381 - val_accuracy: 0.9881\n",
      "Epoch 7/12\n",
      "469/469 [==============================] - 45s 97ms/step - loss: 0.0080 - accuracy: 0.9976 - val_loss: 0.0487 - val_accuracy: 0.9877\n",
      "Epoch 8/12\n",
      "469/469 [==============================] - 46s 98ms/step - loss: 0.0080 - accuracy: 0.9971 - val_loss: 0.0377 - val_accuracy: 0.9903\n",
      "Epoch 9/12\n",
      "469/469 [==============================] - 47s 100ms/step - loss: 0.0044 - accuracy: 0.9986 - val_loss: 0.0417 - val_accuracy: 0.9896\n",
      "Epoch 10/12\n",
      "469/469 [==============================] - 48s 103ms/step - loss: 0.0057 - accuracy: 0.9980 - val_loss: 0.0394 - val_accuracy: 0.9901\n",
      "Epoch 11/12\n",
      "469/469 [==============================] - 51s 110ms/step - loss: 0.0049 - accuracy: 0.9984 - val_loss: 0.0401 - val_accuracy: 0.9895\n",
      "Epoch 12/12\n",
      "469/469 [==============================] - 51s 108ms/step - loss: 0.0028 - accuracy: 0.9993 - val_loss: 0.0423 - val_accuracy: 0.9902\n",
      "CPU times: user 1h 42s, sys: 32min 10s, total: 1h 32min 53s\n",
      "Wall time: 9min 47s\n"
     ]
    },
    {
     "data": {
      "text/plain": [
       "<keras.callbacks.History at 0x7fb10315ed00>"
      ]
     },
     "execution_count": 2,
     "metadata": {},
     "output_type": "execute_result"
    }
   ],
   "source": [
    "%%time\n",
    "import tensorflow as tf\n",
    "import tensorflow_datasets as tfds\n",
    "print(\"TensorFlow version:\", tf.__version__)\n",
    "print(\"Num GPUs Available: \", len(tf.config.experimental.list_physical_devices('GPU')))\n",
    "tf.config.list_physical_devices('GPU')\n",
    "(ds_train, ds_test), ds_info = tfds.load(\n",
    "    'mnist',\n",
    "    split=['train', 'test'],\n",
    "    shuffle_files=True,\n",
    "    as_supervised=True,\n",
    "    with_info=True,\n",
    ")\n",
    "def normalize_img(image, label):\n",
    "  \"\"\"Normalizes images: `uint8` -> `float32`.\"\"\"\n",
    "  return tf.cast(image, tf.float32) / 255., label\n",
    "batch_size = 128\n",
    "ds_train = ds_train.map(\n",
    "    normalize_img, num_parallel_calls=tf.data.experimental.AUTOTUNE)\n",
    "ds_train = ds_train.cache()\n",
    "ds_train = ds_train.shuffle(ds_info.splits['train'].num_examples)\n",
    "ds_train = ds_train.batch(batch_size)\n",
    "ds_train = ds_train.prefetch(tf.data.experimental.AUTOTUNE)\n",
    "ds_test = ds_test.map(\n",
    "    normalize_img, num_parallel_calls=tf.data.experimental.AUTOTUNE)\n",
    "ds_test = ds_test.batch(batch_size)\n",
    "ds_test = ds_test.cache()\n",
    "ds_test = ds_test.prefetch(tf.data.experimental.AUTOTUNE)\n",
    "model = tf.keras.models.Sequential([\n",
    "  tf.keras.layers.Conv2D(32, kernel_size=(3, 3),\n",
    "                 activation='relu'),\n",
    "  tf.keras.layers.Conv2D(64, kernel_size=(3, 3),\n",
    "                 activation='relu'),\n",
    "  tf.keras.layers.MaxPooling2D(pool_size=(2, 2)),\n",
    "#   tf.keras.layers.Dropout(0.25),\n",
    "  tf.keras.layers.Flatten(),\n",
    "  tf.keras.layers.Dense(128, activation='relu'),\n",
    "#   tf.keras.layers.Dropout(0.5),\n",
    "  tf.keras.layers.Dense(10, activation='softmax')\n",
    "])\n",
    "model.compile(\n",
    "    loss='sparse_categorical_crossentropy',\n",
    "    optimizer=tf.keras.optimizers.Adam(0.001),\n",
    "    metrics=['accuracy'],\n",
    ")\n",
    "model.fit(\n",
    "    ds_train,\n",
    "    epochs=12,\n",
    "    validation_data=ds_test,\n",
    ")"
   ]
  },
  {
   "cell_type": "code",
   "execution_count": null,
   "id": "793e02ba",
   "metadata": {},
   "outputs": [],
   "source": []
  }
 ],
 "metadata": {
  "kernelspec": {
   "display_name": "Python 3",
   "language": "python",
   "name": "python3"
  },
  "language_info": {
   "codemirror_mode": {
    "name": "ipython",
    "version": 3
   },
   "file_extension": ".py",
   "mimetype": "text/x-python",
   "name": "python",
   "nbconvert_exporter": "python",
   "pygments_lexer": "ipython3",
   "version": "3.8.13"
  }
 },
 "nbformat": 4,
 "nbformat_minor": 5
}
